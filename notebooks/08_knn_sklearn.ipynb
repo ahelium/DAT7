{
 "metadata": {
  "name": "",
  "signature": "sha256:309d8d995dea691b1a9525e2f672888fb8af3031cc9f42f32e7a8405862a483e"
 },
 "nbformat": 3,
 "nbformat_minor": 0,
 "worksheets": [
  {
   "cells": [
    {
     "cell_type": "markdown",
     "metadata": {},
     "source": [
      "# K-nearest neighbors and scikit-learn"
     ]
    },
    {
     "cell_type": "markdown",
     "metadata": {},
     "source": [
      "## Agenda\n",
      "\n",
      "- **K-nearest neighbors (KNN)**\n",
      "    - Review of the iris dataset\n",
      "    - Human learning on the iris dataset\n",
      "    - KNN classification\n",
      "    - Review of supervised learning\n",
      "- **scikit-learn**\n",
      "    - Requirements for working with data in scikit-learn\n",
      "    - scikit-learn's 4-step modeling pattern\n",
      "    - Tuning a KNN model\n",
      "    - Comparing KNN with other models"
     ]
    },
    {
     "cell_type": "markdown",
     "metadata": {},
     "source": [
      "## Review of the iris dataset"
     ]
    },
    {
     "cell_type": "markdown",
     "metadata": {},
     "source": [
      "![Iris](images/iris.png)"
     ]
    },
    {
     "cell_type": "code",
     "collapsed": false,
     "input": [
      "# read the iris data into a DataFrame\n",
      "import pandas as pd\n",
      "col_names = ['sepal_length', 'sepal_width', 'petal_length', 'petal_width', 'species']\n",
      "iris = pd.read_csv('http://archive.ics.uci.edu/ml/machine-learning-databases/iris/iris.data', header=None, names=col_names)"
     ],
     "language": "python",
     "metadata": {},
     "outputs": []
    },
    {
     "cell_type": "code",
     "collapsed": false,
     "input": [
      "iris.head()"
     ],
     "language": "python",
     "metadata": {},
     "outputs": []
    },
    {
     "cell_type": "markdown",
     "metadata": {},
     "source": [
      "### Terminology\n",
      "\n",
      "- **150 observations** (n=150): each observation is one iris flower\n",
      "- **4 features** (p=4): sepal length, sepal width, petal length, and petal width\n",
      "- **Response**: iris species\n",
      "- **Classification problem** since response is categorical"
     ]
    },
    {
     "cell_type": "markdown",
     "metadata": {},
     "source": [
      "## Human learning on the iris dataset\n",
      "\n",
      "How did we (as humans) predict the species for iris flowers?\n",
      "\n",
      "1. We looked for features that seemed to correlate with the response.\n",
      "2. We created a set of rules (using those features) to predict the species of an unknown iris.\n",
      "\n",
      "More generally:\n",
      "\n",
      "1. We observed that the different species had (somewhat) dissimilar measurements.\n",
      "2. We predicted the species for an unknown iris by:\n",
      "    - Looking for irises in the data with similar measurements\n",
      "    - Assuming that our unknown iris is the same species as those similar irises"
     ]
    },
    {
     "cell_type": "code",
     "collapsed": false,
     "input": [
      "# allow plots to appear in the notebook\n",
      "%matplotlib inline\n",
      "\n",
      "# create a custom colormap\n",
      "from matplotlib.colors import ListedColormap\n",
      "cmap_bold = ListedColormap(['#FF0000', '#00FF00', '#0000FF'])\n",
      "\n",
      "# map each iris species to a number\n",
      "iris['species_num'] = iris.species.map({'Iris-setosa':0, 'Iris-versicolor':1, 'Iris-virginica':2})"
     ],
     "language": "python",
     "metadata": {},
     "outputs": []
    },
    {
     "cell_type": "code",
     "collapsed": false,
     "input": [
      "# create a scatter plot of PETAL LENGTH versus PETAL WIDTH and color by SPECIES\n",
      "iris.plot(kind='scatter', x='petal_length', y='petal_width', c='species_num', colormap=cmap_bold)"
     ],
     "language": "python",
     "metadata": {},
     "outputs": []
    },
    {
     "cell_type": "code",
     "collapsed": false,
     "input": [
      "# create a scatter plot of SEPAL LENGTH versus SEPAL WIDTH and color by SPECIES\n",
      "iris.plot(kind='scatter', x='sepal_length', y='sepal_width', c='species_num', colormap=cmap_bold)"
     ],
     "language": "python",
     "metadata": {},
     "outputs": []
    },
    {
     "cell_type": "markdown",
     "metadata": {},
     "source": [
      "## K-nearest neighbors (KNN) classification"
     ]
    },
    {
     "cell_type": "markdown",
     "metadata": {},
     "source": [
      "1. Pick a value for K.\n",
      "2. Search for the K observations in the data that are \"nearest\" to the measurements of the unknown iris.\n",
      "    - Euclidian distance is often used as the distance metric, but other metrics are allowed.\n",
      "3. Use the most popular response value from the K \"nearest neighbors\" as the predicted response value for the unknown iris."
     ]
    },
    {
     "cell_type": "markdown",
     "metadata": {},
     "source": [
      "### KNN classification map for iris (K=1)\n",
      "\n",
      "![1NN classification map](images/iris_01nn_map.png)"
     ]
    },
    {
     "cell_type": "markdown",
     "metadata": {},
     "source": [
      "### KNN classification map for iris (K=5)\n",
      "\n",
      "![5NN classification map](images/iris_05nn_map.png)"
     ]
    },
    {
     "cell_type": "markdown",
     "metadata": {},
     "source": [
      "### KNN classification map for iris (K=15)\n",
      "\n",
      "![15NN classification map](images/iris_15nn_map.png)"
     ]
    },
    {
     "cell_type": "markdown",
     "metadata": {},
     "source": [
      "### KNN classification map for iris (K=50)\n",
      "\n",
      "![50NN classification map](images/iris_50nn_map.png)"
     ]
    },
    {
     "cell_type": "markdown",
     "metadata": {},
     "source": [
      "**Question:** What's the \"best\" value for K in this case?\n",
      "\n",
      "**Answer:** The value which produces the most accurate predictions on unseen data. We want to create a model that generalizes!"
     ]
    },
    {
     "cell_type": "markdown",
     "metadata": {},
     "source": [
      "## Review of supervised learning\n",
      "\n",
      "![Supervised learning diagram](images/supervised_learning.png)"
     ]
    },
    {
     "cell_type": "markdown",
     "metadata": {},
     "source": [
      "## Requirements for working with data in scikit-learn\n",
      "\n",
      "1. Features and response are **separate objects**\n",
      "2. Features and response should be **numeric**\n",
      "3. Features and response should be **NumPy arrays**\n",
      "4. Features and response should have **specific shapes**"
     ]
    },
    {
     "cell_type": "code",
     "collapsed": false,
     "input": [
      "iris.head()"
     ],
     "language": "python",
     "metadata": {},
     "outputs": []
    },
    {
     "cell_type": "code",
     "collapsed": false,
     "input": [
      "# store feature matrix in \"X\"\n",
      "feature_cols = ['sepal_length', 'sepal_width', 'petal_length', 'petal_width']\n",
      "X = iris[feature_cols]"
     ],
     "language": "python",
     "metadata": {},
     "outputs": []
    },
    {
     "cell_type": "code",
     "collapsed": false,
     "input": [
      "# alternative ways to create \"X\"\n",
      "X = iris.drop(['species', 'species_num'], axis=1)\n",
      "X = iris.loc[:, 'sepal_length':'petal_width']\n",
      "X = iris.iloc[:, 0:4]"
     ],
     "language": "python",
     "metadata": {},
     "outputs": []
    },
    {
     "cell_type": "code",
     "collapsed": false,
     "input": [
      "# store response vector in \"y\"\n",
      "y = iris.species_num"
     ],
     "language": "python",
     "metadata": {},
     "outputs": []
    },
    {
     "cell_type": "code",
     "collapsed": false,
     "input": [
      "# check X's type\n",
      "print type(X)\n",
      "print type(X.values)"
     ],
     "language": "python",
     "metadata": {},
     "outputs": []
    },
    {
     "cell_type": "code",
     "collapsed": false,
     "input": [
      "# check y's type\n",
      "print type(y)\n",
      "print type(y.values)"
     ],
     "language": "python",
     "metadata": {},
     "outputs": []
    },
    {
     "cell_type": "code",
     "collapsed": false,
     "input": [
      "# check X's shape (n = number of observations, p = number of features)\n",
      "print X.shape"
     ],
     "language": "python",
     "metadata": {},
     "outputs": []
    },
    {
     "cell_type": "code",
     "collapsed": false,
     "input": [
      "# check y's shape (single dimension with length n)\n",
      "print y.shape"
     ],
     "language": "python",
     "metadata": {},
     "outputs": []
    },
    {
     "cell_type": "markdown",
     "metadata": {},
     "source": [
      "## scikit-learn's 4-step modeling pattern"
     ]
    },
    {
     "cell_type": "markdown",
     "metadata": {},
     "source": [
      "**Step 1:** Import the class you plan to use"
     ]
    },
    {
     "cell_type": "code",
     "collapsed": false,
     "input": [
      "from sklearn.neighbors import KNeighborsClassifier"
     ],
     "language": "python",
     "metadata": {},
     "outputs": []
    },
    {
     "cell_type": "markdown",
     "metadata": {},
     "source": [
      "**Step 2:** \"Instantiate\" the \"estimator\"\n",
      "\n",
      "- \"Estimator\" is scikit-learn's term for \"model\"\n",
      "- \"Instantiate\" means \"make an instance of\""
     ]
    },
    {
     "cell_type": "code",
     "collapsed": false,
     "input": [
      "knn = KNeighborsClassifier(n_neighbors=1)"
     ],
     "language": "python",
     "metadata": {},
     "outputs": []
    },
    {
     "cell_type": "markdown",
     "metadata": {},
     "source": [
      "- Name of the object does not matter\n",
      "- Can specify tuning parameters (aka \"hyperparameters\") during this step\n",
      "- All parameters not specified are set to their defaults"
     ]
    },
    {
     "cell_type": "code",
     "collapsed": false,
     "input": [
      "print knn"
     ],
     "language": "python",
     "metadata": {},
     "outputs": []
    },
    {
     "cell_type": "markdown",
     "metadata": {},
     "source": [
      "**Step 3:** Fit the model with data (aka \"model training\")\n",
      "\n",
      "- Model is \"learning\" the relationship between X and y in our \"training data\"\n",
      "- Process through which learning occurs varies by model\n",
      "- Occurs in-place"
     ]
    },
    {
     "cell_type": "code",
     "collapsed": false,
     "input": [
      "knn.fit(X, y)"
     ],
     "language": "python",
     "metadata": {},
     "outputs": []
    },
    {
     "cell_type": "markdown",
     "metadata": {},
     "source": [
      "- Once a model has been fit with data, it's called a \"fitted model\""
     ]
    },
    {
     "cell_type": "markdown",
     "metadata": {},
     "source": [
      "**Step 4:** Predict the response for a new observation\n",
      "\n",
      "- New observations are called \"out-of-sample\" data\n",
      "- Uses the information it learned during the model training process"
     ]
    },
    {
     "cell_type": "code",
     "collapsed": false,
     "input": [
      "knn.predict([3, 5, 4, 2])"
     ],
     "language": "python",
     "metadata": {},
     "outputs": []
    },
    {
     "cell_type": "markdown",
     "metadata": {},
     "source": [
      "- Returns a NumPy array, and we keep track of what the numbers \"mean\"\n",
      "- Can predict for multiple observations at once"
     ]
    },
    {
     "cell_type": "code",
     "collapsed": false,
     "input": [
      "X_new = [[3, 5, 4, 2], [5, 4, 3, 2]]\n",
      "knn.predict(X_new)"
     ],
     "language": "python",
     "metadata": {},
     "outputs": []
    },
    {
     "cell_type": "markdown",
     "metadata": {},
     "source": [
      "## Tuning a KNN model"
     ]
    },
    {
     "cell_type": "code",
     "collapsed": false,
     "input": [
      "# instantiate the model (using the value K=5)\n",
      "knn = KNeighborsClassifier(n_neighbors=5)\n",
      "\n",
      "# fit the model with data\n",
      "knn.fit(X, y)\n",
      "\n",
      "# predict the response for new observations\n",
      "knn.predict(X_new)"
     ],
     "language": "python",
     "metadata": {},
     "outputs": []
    },
    {
     "cell_type": "code",
     "collapsed": false,
     "input": [
      "# calculate predicted probabilities of class membership\n",
      "knn.predict_proba(X_new)"
     ],
     "language": "python",
     "metadata": {},
     "outputs": []
    },
    {
     "cell_type": "code",
     "collapsed": false,
     "input": [
      "# print distances to nearest neighbors (and their identities)\n",
      "knn.kneighbors([3, 5, 4, 2])"
     ],
     "language": "python",
     "metadata": {},
     "outputs": []
    },
    {
     "cell_type": "markdown",
     "metadata": {},
     "source": [
      "## Comparing KNN with other models"
     ]
    },
    {
     "cell_type": "markdown",
     "metadata": {},
     "source": [
      "Advantages of KNN:\n",
      "\n",
      "- Simple to understand and explain\n",
      "- Model training is fast\n",
      "- Can be used for classification and regression!\n",
      "\n",
      "Disadvantages of KNN:\n",
      "\n",
      "- Must store all of the training data\n",
      "- Prediction phase can be slow when n is large\n",
      "- Sensitive to irrelevant features\n",
      "- Sensitive to the scale of the data\n",
      "- Accuracy is (generally) not competitive with the best supervised learning methods"
     ]
    }
   ],
   "metadata": {}
  }
 ]
}