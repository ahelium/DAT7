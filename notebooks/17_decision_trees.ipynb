{
 "metadata": {
  "name": "",
  "signature": "sha256:6ae6b637840439d25c99bceb54f8c32289a8a325e08137e29e8f22c488290bb7"
 },
 "nbformat": 3,
 "nbformat_minor": 0,
 "worksheets": [
  {
   "cells": [
    {
     "cell_type": "markdown",
     "metadata": {},
     "source": [
      "# Decision Trees\n",
      "\n",
      "*Adapted from Chapter 8 of [An Introduction to Statistical Learning](http://www-bcf.usc.edu/~gareth/ISL/)*"
     ]
    },
    {
     "cell_type": "markdown",
     "metadata": {},
     "source": [
      "**Motivation:** Why are we learning about decision trees?\n",
      "\n",
      "- Useful for both regression and classification problems\n",
      "- Widely used\n",
      "- Basis for more sophisticated models\n",
      "- Have a different way of \"thinking\" than the other models we have studied"
     ]
    },
    {
     "cell_type": "markdown",
     "metadata": {},
     "source": [
      "# Part 1: Regression trees\n",
      "\n",
      "Baseball player salary data:\n",
      "\n",
      "- **Years** (x-axis): number of years playing in the major leagues\n",
      "- **Hits** (y-axis): number of hits in the previous year\n",
      "- **Salary** (color): low salary is blue/green, high salary is red/yellow"
     ]
    },
    {
     "cell_type": "code",
     "collapsed": false,
     "input": [
      "![Salary data](images/salary_color.png)"
     ],
     "language": "python",
     "metadata": {},
     "outputs": []
    },
    {
     "cell_type": "markdown",
     "metadata": {},
     "source": [
      "Group exercise:\n",
      "\n",
      "- The data above is our **training data**.\n",
      "- We want to build a model that predicts the Salary of **future players** based on Years and Hits.\n",
      "- We are going to \"segment\" the feature space into regions, and then use the **mean Salary in each region** as the predicted Salary for future players.\n",
      "- Intuitively, you want to **maximize** the similarity (or \"homogeneity\") within a given region, and **minimize** the similarity between different regions.\n",
      "\n",
      "Rules for segmenting:\n",
      "\n",
      "- You can only use **straight lines**, drawn one at a time.\n",
      "- Your line must either be **vertical or horizontal**.\n",
      "- Your line **stops** when it hits an existing line."
     ]
    },
    {
     "cell_type": "code",
     "collapsed": false,
     "input": [
      "![Salary regions](images/salary_regions.png)"
     ],
     "language": "python",
     "metadata": {},
     "outputs": []
    },
    {
     "cell_type": "markdown",
     "metadata": {},
     "source": [
      "Above are the regions created by a computer:\n",
      "\n",
      "- $R_1$: players with **less than 5 years** of experience, mean Salary of **\\$166,000 **\n",
      "- $R_2$: players with **5 or more years** of experience and **less than 118 hits**, mean Salary of **\\$403,000 **\n",
      "- $R_3$: players with **5 or more years** of experience and **118 hits or more**, mean Salary of **\\$846,000 **\n",
      "\n",
      "**Note:** Years and Hits are both integers, but the convention is to use the **midpoint** between adjacent values to label a split.\n",
      "\n",
      "These regions are used to make predictions on **out-of-sample data**. Thus, there are only three possible predictions! (Is this different from how **linear regression** makes predictions?)\n",
      "\n",
      "Below is the equivalent regression tree:"
     ]
    },
    {
     "cell_type": "code",
     "collapsed": false,
     "input": [
      "![Salary tree](images/salary_tree.png)"
     ],
     "language": "python",
     "metadata": {},
     "outputs": []
    },
    {
     "cell_type": "markdown",
     "metadata": {},
     "source": [
      "The first split is **Years < 4.5**, thus that split goes at the top of the tree. When a splitting rule is **True**, you follow the left branch. When a splitting rule is **False**, you follow the right branch.\n",
      "\n",
      "For players in the **left branch**, the mean Salary is \\$166,000, thus you label it with that value. (Salary has been divided by 1000 and log-transformed to 5.11.)\n",
      "\n",
      "For players in the **right branch**, there is a further split on **Hits < 117.5**, dividing players into two more Salary regions: \\$403,000 (transformed to 6.00), and \\$846,000 (transformed to 6.74)."
     ]
    },
    {
     "cell_type": "code",
     "collapsed": false,
     "input": [
      "![Salary tree annotated](images/salary_tree_annotated.png)"
     ],
     "language": "python",
     "metadata": {},
     "outputs": []
    },
    {
     "cell_type": "markdown",
     "metadata": {},
     "source": [
      "**What does this tree tell you about your data?**\n",
      "\n",
      "- Years is the most important factor determining Salary, with a lower number of Years corresponding to a lower Salary.\n",
      "- For a player with a lower number of Years, Hits is not an important factor determining Salary.\n",
      "- For a player with a higher number of Years, Hits is an important factor determining Salary, with a greater number of Hits corresponding to a higher Salary.\n",
      "\n",
      "**Question:** What do you like and dislike about decision trees so far?"
     ]
    },
    {
     "cell_type": "markdown",
     "metadata": {},
     "source": [
      "## Building a regression tree by hand\n",
      "\n",
      "Your **training data** is a tiny dataset of [used vehicle sale prices](https://raw.githubusercontent.com/justmarkham/DAT7/master/data/vehicles_train.csv). Your goal is to **predict price** for testing data.\n",
      "\n",
      "1. Read the data into a Pandas DataFrame.\n",
      "2. Explore the data by sorting, plotting, or split-apply-combine (aka `group_by`).\n",
      "3. Decide which feature is the most important predictor, and use that to create your first splitting rule.\n",
      "    - Only binary splits are allowed.\n",
      "4. After making your first split, split your DataFrame into two parts, and then explore each part to figure out what other splits to make.\n",
      "5. Stop making splits once you are convinced that it strikes a good balance between underfitting and overfitting.\n",
      "    - Your goal is to build a model that generalizes well.\n",
      "    - You are allowed to split on the same variable multiple times!\n",
      "6. Draw your tree, labeling the leaves with the mean price for the observations in that region.\n",
      "    - Make sure nothing is backwards: You follow the **left branch** if the rule is true, and the **right branch** if the rule is false."
     ]
    },
    {
     "cell_type": "markdown",
     "metadata": {},
     "source": [
      "## How does a computer build a regression tree?\n",
      "\n",
      "**Ideal approach:** Consider every possible partition of the feature space (computationally infeasible)\n",
      "\n",
      "**\"Good enough\" approach:** recursive binary splitting\n",
      "\n",
      "1. Begin at the top of the tree.\n",
      "2. For **every feature**, examine **every possible cutpoint**, and choose the feature and cutpoint such that the resulting tree has the lowest possible mean squared error (MSE). Make that split.\n",
      "3. Examine the two resulting regions, and again make a **single split** (in one of the regions) to minimize the MSE.\n",
      "4. Keep repeating step 3 until a **stopping criterion** is met:\n",
      "    - maximum tree depth (maximum number of splits required to arrive at a leaf)\n",
      "    - minimum number of observations in a leaf"
     ]
    },
    {
     "cell_type": "markdown",
     "metadata": {},
     "source": [
      "### Demo: Choosing the ideal cutpoint for a given feature"
     ]
    },
    {
     "cell_type": "code",
     "collapsed": false,
     "input": [
      "# vehicle data\n",
      "import pandas as pd\n",
      "url = 'https://raw.githubusercontent.com/justmarkham/DAT7/master/data/vehicles_train.csv'\n",
      "train = pd.read_csv(url)\n",
      "\n",
      "# before splitting anything, just predict the mean of the entire dataset\n",
      "train['prediction'] = train.price.mean()\n",
      "train"
     ],
     "language": "python",
     "metadata": {},
     "outputs": []
    },
    {
     "cell_type": "code",
     "collapsed": false,
     "input": [
      "# calculate RMSE for those predictions\n",
      "from sklearn import metrics\n",
      "import numpy as np\n",
      "np.sqrt(metrics.mean_squared_error(train.price, train.prediction))"
     ],
     "language": "python",
     "metadata": {},
     "outputs": []
    },
    {
     "cell_type": "code",
     "collapsed": false,
     "input": [
      "# define a function that calculates the RMSE for a given split of miles\n",
      "def mileage_split(miles):\n",
      "    lower_mileage_price = train[train.miles < miles].price.mean()\n",
      "    higher_mileage_price = train[train.miles >= miles].price.mean()\n",
      "    train['prediction'] = np.where(train.miles < miles, lower_mileage_price, higher_mileage_price)\n",
      "    return np.sqrt(metrics.mean_squared_error(train.price, train.prediction))"
     ],
     "language": "python",
     "metadata": {},
     "outputs": []
    },
    {
     "cell_type": "code",
     "collapsed": false,
     "input": [
      "# calculate RMSE for tree which splits on miles < 50000\n",
      "print 'RMSE:', mileage_split(50000)\n",
      "train"
     ],
     "language": "python",
     "metadata": {},
     "outputs": []
    },
    {
     "cell_type": "code",
     "collapsed": false,
     "input": [
      "# calculate RMSE for tree which splits on miles < 100000\n",
      "print 'RMSE:', mileage_split(100000)\n",
      "train"
     ],
     "language": "python",
     "metadata": {},
     "outputs": []
    },
    {
     "cell_type": "code",
     "collapsed": false,
     "input": [
      "# check all possible mileage splits\n",
      "mileage_range = range(train.miles.min(), train.miles.max(), 1000)\n",
      "RMSE = [mileage_split(miles) for miles in mileage_range]\n",
      "\n",
      "# plot mileage cutpoint (x-axis) versus RMSE (y-axis)\n",
      "%matplotlib inline\n",
      "import matplotlib.pyplot as plt\n",
      "plt.plot(mileage_range, RMSE)\n",
      "plt.xlabel('Mileage cutpoint')\n",
      "plt.ylabel('RMSE (lower is better)')"
     ],
     "language": "python",
     "metadata": {},
     "outputs": []
    },
    {
     "cell_type": "markdown",
     "metadata": {},
     "source": [
      "**Recap:** Before every split, this process is repeated for every feature, and the feature and cutpoint that produces the lowest MSE is chosen."
     ]
    },
    {
     "cell_type": "markdown",
     "metadata": {},
     "source": [
      "## Building a regression tree in scikit-learn"
     ]
    },
    {
     "cell_type": "code",
     "collapsed": false,
     "input": [
      "# encode car as 0 and truck as 1\n",
      "\n",
      "# define X and y\n"
     ],
     "language": "python",
     "metadata": {},
     "outputs": []
    },
    {
     "cell_type": "code",
     "collapsed": false,
     "input": [
      "# instantiate a DecisionTreeRegressor (with random_state=1)\n"
     ],
     "language": "python",
     "metadata": {},
     "outputs": []
    },
    {
     "cell_type": "code",
     "collapsed": false,
     "input": [
      "# use leave-one-out cross-validation (LOOCV) to estimate the RMSE for this model\n"
     ],
     "language": "python",
     "metadata": {},
     "outputs": []
    },
    {
     "cell_type": "markdown",
     "metadata": {},
     "source": [
      "## What happens when we grow a tree too deep?\n",
      "\n",
      "- Left: Regression tree for Salary **grown deeper**\n",
      "- Right: Comparison of the **training, testing, and cross-validation errors** for trees with different numbers of leaves"
     ]
    },
    {
     "cell_type": "code",
     "collapsed": false,
     "input": [
      "![Salary tree grown deep](images/salary_tree_deep.png)"
     ],
     "language": "python",
     "metadata": {},
     "outputs": []
    },
    {
     "cell_type": "markdown",
     "metadata": {},
     "source": [
      "The **training error** continues to go down as the tree size increases (due to overfitting), but the lowest **cross-validation error** occurs for a tree with 3 leaves."
     ]
    },
    {
     "cell_type": "markdown",
     "metadata": {},
     "source": [
      "## Tuning a regression tree\n",
      "\n",
      "Let's try to reduce the RMSE by tuning the **max_depth** parameter:"
     ]
    },
    {
     "cell_type": "code",
     "collapsed": false,
     "input": [
      "# try different values one-by-one\n",
      "treereg = DecisionTreeRegressor(max_depth=1, random_state=1)\n",
      "scores = cross_val_score(treereg, X, y, cv=14, scoring='mean_squared_error')\n",
      "np.mean(np.sqrt(-scores))"
     ],
     "language": "python",
     "metadata": {},
     "outputs": []
    },
    {
     "cell_type": "markdown",
     "metadata": {},
     "source": [
      "Or, we could write a loop to try a range of values:"
     ]
    },
    {
     "cell_type": "code",
     "collapsed": false,
     "input": [
      "# list of values to try\n",
      "max_depth_range = range(1, 8)\n",
      "\n",
      "# list to store the average RMSE for each value of max_depth\n",
      "RMSE_scores = []\n",
      "\n",
      "# use LOOCV with each value of max_depth\n",
      "for depth in max_depth_range:\n",
      "    treereg = DecisionTreeRegressor(max_depth=depth, random_state=1)\n",
      "    MSE_scores = cross_val_score(treereg, X, y, cv=14, scoring='mean_squared_error')\n",
      "    RMSE_scores.append(np.mean(np.sqrt(-MSE_scores)))\n",
      "\n",
      "# plot max_depth (x-axis) versus RMSE (y-axis)\n",
      "plt.plot(max_depth_range, RMSE_scores)\n",
      "plt.xlabel('max_depth')\n",
      "plt.ylabel('RMSE (lower is better)')"
     ],
     "language": "python",
     "metadata": {},
     "outputs": []
    },
    {
     "cell_type": "code",
     "collapsed": false,
     "input": [
      "# max_depth=3 was best, so fit a tree using that parameter\n",
      "treereg = DecisionTreeRegressor(max_depth=3, random_state=1)\n",
      "treereg.fit(X, y)"
     ],
     "language": "python",
     "metadata": {},
     "outputs": []
    },
    {
     "cell_type": "code",
     "collapsed": false,
     "input": [
      "# \"Gini importance\" of each feature: the (normalized) total reduction of error brought by that feature\n",
      "pd.DataFrame({'feature':feature_cols, 'importance':treereg.feature_importances_})"
     ],
     "language": "python",
     "metadata": {},
     "outputs": []
    },
    {
     "cell_type": "markdown",
     "metadata": {},
     "source": [
      "## Creating a tree diagram"
     ]
    },
    {
     "cell_type": "code",
     "collapsed": false,
     "input": [
      "# create a GraphViz file\n",
      "from sklearn.tree import export_graphviz\n",
      "export_graphviz(treereg, out_file='tree_vehicles.dot', feature_names=feature_cols)\n",
      "\n",
      "# At the command line, run this to convert to PNG:\n",
      "# dot -Tpng tree_vehicles.dot -o tree_vehicles.png"
     ],
     "language": "python",
     "metadata": {},
     "outputs": []
    },
    {
     "cell_type": "code",
     "collapsed": false,
     "input": [
      "![Tree for vehicle data](images/tree_vehicles.png)"
     ],
     "language": "python",
     "metadata": {},
     "outputs": []
    },
    {
     "cell_type": "markdown",
     "metadata": {},
     "source": [
      "Reading the internal nodes:\n",
      "\n",
      "- **samples:** number of observations in that node before splitting\n",
      "- **mse:** MSE calculated by comparing the actual response values in that node against the mean response value in that node\n",
      "- **rule:** rule used to split that node (go left if true, go right if false)\n",
      "\n",
      "Reading the leaves:\n",
      "\n",
      "- **samples:** number of observations in that node\n",
      "- **value:** mean response value in that node\n",
      "- **mse:** MSE calculated by comparing the actual response values in that node against \"value\""
     ]
    },
    {
     "cell_type": "markdown",
     "metadata": {},
     "source": [
      "## Making predictions for the testing data"
     ]
    },
    {
     "cell_type": "code",
     "collapsed": false,
     "input": [
      "# read the testing data\n"
     ],
     "language": "python",
     "metadata": {},
     "outputs": []
    },
    {
     "cell_type": "markdown",
     "metadata": {},
     "source": [
      "**Question:** Using the tree diagram above, what predictions will the model make for each observation?"
     ]
    },
    {
     "cell_type": "code",
     "collapsed": false,
     "input": [
      "# use fitted model to make predictions on testing data\n"
     ],
     "language": "python",
     "metadata": {},
     "outputs": []
    },
    {
     "cell_type": "code",
     "collapsed": false,
     "input": [
      "# calculate RMSE\n"
     ],
     "language": "python",
     "metadata": {},
     "outputs": []
    },
    {
     "cell_type": "code",
     "collapsed": false,
     "input": [
      "# calculate RMSE for your own tree!\n"
     ],
     "language": "python",
     "metadata": {},
     "outputs": []
    },
    {
     "cell_type": "markdown",
     "metadata": {},
     "source": [
      "# Part 2: Classification trees\n",
      "\n",
      "**Example:** Predict whether Barack Obama or Hillary Clinton will win the Democratic primary in a particular county in 2008:"
     ]
    },
    {
     "cell_type": "code",
     "collapsed": false,
     "input": [
      "![Obama-Clinton decision tree](images/obama_clinton_tree.jpg)"
     ],
     "language": "python",
     "metadata": {},
     "outputs": []
    },
    {
     "cell_type": "markdown",
     "metadata": {},
     "source": [
      "**Questions:**\n",
      "\n",
      "- What are the observations? How many observations are there?\n",
      "- What is the response variable?\n",
      "- What are the features?\n",
      "- What is the most predictive feature?\n",
      "- Why does the tree split on high school graduation rate twice in a row?\n",
      "- What is the class prediction for the following county: 15% African-American, 90% high school graduation rate, located in the South, high poverty, high population density?\n",
      "- What is the predicted probability for that same county?"
     ]
    },
    {
     "cell_type": "markdown",
     "metadata": {},
     "source": [
      "## Comparing regression trees and classification trees\n",
      "\n",
      "|regression trees|classification trees|\n",
      "|---|---|\n",
      "|predict a continuous response|predict a categorical response|\n",
      "|predict using mean response of each leaf|predict using most commonly occuring class of each leaf|\n",
      "|splits are chosen to minimize MSE|splits are chosen to minimize Gini index (discussed below)|"
     ]
    },
    {
     "cell_type": "markdown",
     "metadata": {},
     "source": [
      "## Splitting criteria for classification trees\n",
      "\n",
      "Common options for the splitting criteria:\n",
      "\n",
      "- **classification error rate:** fraction of training observations in a region that don't belong to the most common class\n",
      "- **Gini index:** measure of total variance across classes in a region"
     ]
    },
    {
     "cell_type": "markdown",
     "metadata": {},
     "source": [
      "### Example of classification error rate\n",
      "\n",
      "Pretend we are predicting whether someone buys an iPhone or an Android:\n",
      "\n",
      "- At a particular node, there are **25 observations** (phone buyers), of whom **10 bought iPhones and 15 bought Androids**.\n",
      "- Since the majority class is **Android**, that's our prediction for all 25 observations, and thus the classification error rate is **10/25 = 40%**.\n",
      "\n",
      "Our goal in making splits is to **reduce the classification error rate**. Let's try splitting on gender:\n",
      "\n",
      "- **Males:** 2 iPhones and 12 Androids, thus the predicted class is Android\n",
      "- **Females:** 8 iPhones and 3 Androids, thus the predicted class is iPhone\n",
      "- Classification error rate after this split would be **5/25 = 20%**\n",
      "\n",
      "Compare that with a split on age:\n",
      "\n",
      "- **30 or younger:** 4 iPhones and 8 Androids, thus the predicted class is Android\n",
      "- **31 or older:** 6 iPhones and 7 Androids, thus the predicted class is Android\n",
      "- Classification error rate after this split would be **10/25 = 40%**\n",
      "\n",
      "The decision tree algorithm will try **every possible split across all features**, and choose the split that **reduces the error rate the most.**"
     ]
    },
    {
     "cell_type": "markdown",
     "metadata": {},
     "source": [
      "### Example of Gini index\n",
      "\n",
      "Calculate the Gini index before making a split:\n",
      "\n",
      "$$1 - \\left(\\frac {iPhone} {Total}\\right)^2 - \\left(\\frac {Android} {Total}\\right)^2 = 1 - \\left(\\frac {10} {25}\\right)^2 - \\left(\\frac {15} {25}\\right)^2 = 0.48$$\n",
      "\n",
      "- The **maximum value** of the Gini index is 0.5, and occurs when the classes are perfectly balanced in a node.\n",
      "- The **minimum value** of the Gini index is 0, and occurs when there is only one class represented in a node.\n",
      "- A node with a lower Gini index is said to be more \"pure\".\n",
      "\n",
      "Evaluating the split on **gender** using Gini index:\n",
      "\n",
      "$$\\text{Males: } 1 - \\left(\\frac {2} {14}\\right)^2 - \\left(\\frac {12} {14}\\right)^2 = 0.24$$\n",
      "$$\\text{Females: } 1 - \\left(\\frac {8} {11}\\right)^2 - \\left(\\frac {3} {11}\\right)^2 = 0.40$$\n",
      "$$\\text{Weighted Average: } 0.24 \\left(\\frac {14} {25}\\right) + 0.40 \\left(\\frac {11} {25}\\right) = 0.31$$\n",
      "\n",
      "Evaluating the split on **age** using Gini index:\n",
      "\n",
      "$$\\text{30 or younger: } 1 - \\left(\\frac {4} {12}\\right)^2 - \\left(\\frac {8} {12}\\right)^2 = 0.44$$\n",
      "$$\\text{31 or older: } 1 - \\left(\\frac {6} {13}\\right)^2 - \\left(\\frac {7} {13}\\right)^2 = 0.50$$\n",
      "$$\\text{Weighted Average: } 0.44 \\left(\\frac {12} {25}\\right) + 0.50 \\left(\\frac {13} {25}\\right) = 0.47$$\n",
      "\n",
      "Again, the decision tree algorithm will try **every possible split**, and will choose the split that **reduces the Gini index (and thus increases the \"node purity\") the most.**"
     ]
    },
    {
     "cell_type": "markdown",
     "metadata": {},
     "source": [
      "### Comparing classification error rate and Gini index\n",
      "\n",
      "- Gini index is generally preferred because it will make splits that **increase node purity**, even if that split does not change the classification error rate.\n",
      "- Node purity is important because we're interested in the **class proportions** in each region, since that's how we calculate the **predicted probability** of each class.\n",
      "- scikit-learn's default splitting criteria for classification trees is Gini index.\n",
      "\n",
      "Note: There is another common splitting criteria called **cross-entropy**. It's numerically similar to Gini index, but slower to compute, thus it's not as popular as Gini index."
     ]
    },
    {
     "cell_type": "markdown",
     "metadata": {},
     "source": [
      "## Building a classification tree in scikit-learn"
     ]
    },
    {
     "cell_type": "markdown",
     "metadata": {},
     "source": [
      "We'll build a classification tree using the Titanic data:"
     ]
    },
    {
     "cell_type": "code",
     "collapsed": false,
     "input": [
      "# read in the data\n",
      "url = 'https://raw.githubusercontent.com/justmarkham/DAT7/master/data/titanic.csv'\n",
      "titanic = pd.read_csv(url)\n",
      "titanic.head(10)"
     ],
     "language": "python",
     "metadata": {},
     "outputs": []
    },
    {
     "cell_type": "markdown",
     "metadata": {},
     "source": [
      "What special handling do we need to apply (if any) to the following columns?\n",
      "\n",
      "- **Survived:** 1=survived, 0=passed away (response variable)\n",
      "- **Pclass:** 1=first class, 2=second class, 3=third class\n",
      "    - What will happen if the tree splits on this feature?\n",
      "- **Sex:** male or female\n",
      "- **Age:** numeric value\n",
      "- **Embarked:** C or Q or S"
     ]
    },
    {
     "cell_type": "code",
     "collapsed": false,
     "input": [
      "# encode female as 0 and male as 1\n",
      "titanic['Sex'] = titanic.Sex.map({'female':0, 'male':1})\n",
      "\n",
      "# fill in the missing values for age with the mean age\n",
      "titanic.Age.fillna(titanic.Age.mean(), inplace=True)\n",
      "\n",
      "# create three dummy variables, drop the first dummy variable, and store the two remaining columns as a DataFrame\n",
      "embarked_dummies = pd.get_dummies(titanic.Embarked, prefix='Embarked').iloc[:, 1:]\n",
      "\n",
      "# concatenate the two dummy variable columns onto the original DataFrame\n",
      "titanic = pd.concat([titanic, embarked_dummies], axis=1)\n",
      "\n",
      "# print the updated DataFrame\n",
      "titanic.head(10)"
     ],
     "language": "python",
     "metadata": {},
     "outputs": []
    },
    {
     "cell_type": "code",
     "collapsed": false,
     "input": [
      "# define X and y\n",
      "feature_cols = ['Pclass', 'Sex', 'Age', 'Embarked_Q', 'Embarked_S']\n",
      "X = titanic[feature_cols]\n",
      "y = titanic.Survived"
     ],
     "language": "python",
     "metadata": {},
     "outputs": []
    },
    {
     "cell_type": "code",
     "collapsed": false,
     "input": [
      "# fit a classification tree with max_depth=3 on all data\n",
      "from sklearn.tree import DecisionTreeClassifier\n",
      "treeclf = DecisionTreeClassifier(max_depth=3, random_state=1)\n",
      "treeclf.fit(X, y)"
     ],
     "language": "python",
     "metadata": {},
     "outputs": []
    },
    {
     "cell_type": "code",
     "collapsed": false,
     "input": [
      "# create a GraphViz file\n",
      "export_graphviz(treeclf, out_file='tree_titanic.dot', feature_names=feature_cols)\n",
      "\n",
      "# At the command line, run this to convert to PNG:\n",
      "# dot -Tpng tree_titanic.dot -o tree_titanic.png"
     ],
     "language": "python",
     "metadata": {},
     "outputs": []
    },
    {
     "cell_type": "code",
     "collapsed": false,
     "input": [
      "![Tree for Titanic data](images/tree_titanic.png)"
     ],
     "language": "python",
     "metadata": {},
     "outputs": []
    },
    {
     "cell_type": "markdown",
     "metadata": {},
     "source": [
      "Notice the split in the bottom right: the **same class** is predicted in both of its leaves. That split didn't affect the **classification error rate**, though it did increase the **node purity**, which is important because it increases the accuracy of our predicted probabilities."
     ]
    },
    {
     "cell_type": "code",
     "collapsed": false,
     "input": [
      "# compute the feature importances\n",
      "pd.DataFrame({'feature':feature_cols, 'importance':treeclf.feature_importances_})"
     ],
     "language": "python",
     "metadata": {},
     "outputs": []
    },
    {
     "cell_type": "markdown",
     "metadata": {},
     "source": [
      "# Part 3: Comparing decision trees with other models\n",
      "\n",
      "**Advantages of decision trees:**\n",
      "\n",
      "- Can be used for regression or classification\n",
      "- Can be displayed graphically\n",
      "- Highly interpretable\n",
      "- Can be specified as a series of rules, and more closely approximate human decision-making than other models\n",
      "- Prediction is fast\n",
      "- Features don't need scaling\n",
      "- Automatically learns feature interactions\n",
      "- Tends to ignore irrelevant features\n",
      "- Non-parametric (will outperform linear models if relationship between features and response is highly non-linear)"
     ]
    },
    {
     "cell_type": "code",
     "collapsed": false,
     "input": [
      "![Trees versus linear models](images/tree_vs_linear.png)"
     ],
     "language": "python",
     "metadata": {},
     "outputs": []
    },
    {
     "cell_type": "markdown",
     "metadata": {},
     "source": [
      "**Disadvantages of decision trees:**\n",
      "\n",
      "- Performance is (generally) not competitive with the best supervised learning methods\n",
      "- Can easily overfit the training data (tuning is required)\n",
      "- Small variations in the data can result in a completely different tree (high variance)\n",
      "- Recursive binary splitting makes \"locally optimal\" decisions that may not result in a globally optimal tree\n",
      "- Doesn't tend to work well if the classes are highly unbalanced\n",
      "- Doesn't tend to work well with very small datasets"
     ]
    }
   ],
   "metadata": {}
  }
 ]
}